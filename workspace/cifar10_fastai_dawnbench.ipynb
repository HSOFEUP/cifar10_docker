{
 "cells": [
  {
   "cell_type": "markdown",
   "metadata": {},
   "source": [
    "https://github.com/fastai/imagenet-fast/tree/master/cifar10/dawn_submission"
   ]
  },
  {
   "cell_type": "code",
   "execution_count": 1,
   "metadata": {},
   "outputs": [],
   "source": [
    "from fastai.conv_learner import *\n",
    "from models.wideresnet import wrn_22 # this is the models directory from the fastai/imagenet-fast repo\n",
    "from torchvision import transforms, datasets\n",
    "\n",
    "torch.backends.cudnn.benchmark = True\n",
    "PATH = Path(\"../data/cifar10\")"
   ]
  },
  {
   "cell_type": "code",
   "execution_count": 2,
   "metadata": {},
   "outputs": [],
   "source": [
    "classes = ('plane', 'car', 'bird', 'cat', 'deer', 'dog', 'frog', 'horse', 'ship', 'truck')\n",
    "stats = (np.array([ 0.4914 ,  0.48216,  0.44653]), np.array([ 0.24703,  0.24349,  0.26159]))"
   ]
  },
  {
   "cell_type": "markdown",
   "metadata": {},
   "source": [
    "We construct the data object manually from low level components in a way that can be used with the fastai library."
   ]
  },
  {
   "cell_type": "code",
   "execution_count": 3,
   "metadata": {},
   "outputs": [],
   "source": [
    "def get_loaders(bs, num_workers):\n",
    "    traindir = str(PATH/'train')\n",
    "    valdir = str(PATH/'test')\n",
    "    tfms = [transforms.ToTensor(),\n",
    "            transforms.Normalize((0.4914, 0.4822, 0.4465), (0.2023, 0.1994, 0.2010))]\n",
    "\n",
    "    aug_tfms =transforms.Compose([\n",
    "            transforms.RandomCrop(32, padding=4),\n",
    "            transforms.RandomHorizontalFlip(),\n",
    "        ] + tfms)\n",
    "    \n",
    "    train_dataset = datasets.ImageFolder(\n",
    "        traindir,\n",
    "        aug_tfms)\n",
    "\n",
    "    train_loader = torch.utils.data.DataLoader(\n",
    "        train_dataset, batch_size=bs, shuffle=True, num_workers=num_workers, pin_memory=True)\n",
    "\n",
    "    val_dataset = datasets.ImageFolder(valdir, transforms.Compose(tfms))\n",
    "\n",
    "    val_loader = torch.utils.data.DataLoader(\n",
    "        val_dataset, batch_size=bs, shuffle=False, num_workers=num_workers, pin_memory=True)\n",
    "    \n",
    "    aug_dataset = datasets.ImageFolder(valdir, aug_tfms)\n",
    "\n",
    "    aug_loader = torch.utils.data.DataLoader(\n",
    "        aug_dataset, batch_size=bs, shuffle=False, num_workers=num_workers, pin_memory=True)\n",
    "    \n",
    "    return train_loader, val_loader, aug_loader"
   ]
  },
  {
   "cell_type": "code",
   "execution_count": 4,
   "metadata": {},
   "outputs": [],
   "source": [
    "def get_data(bs, num_workers):\n",
    "    trn_dl, val_dl, aug_dl = get_loaders(bs, num_workers)\n",
    "    data = ModelData(PATH, trn_dl, val_dl)\n",
    "    data.aug_dl = aug_dl\n",
    "    data.sz=32\n",
    "    return data"
   ]
  },
  {
   "cell_type": "code",
   "execution_count": 5,
   "metadata": {},
   "outputs": [],
   "source": [
    "def get_learner(arch, bs):\n",
    "    learn = ConvLearner.from_model_data(arch.cuda(), get_data(bs, num_cpus()))\n",
    "    learn.crit = nn.CrossEntropyLoss()\n",
    "    learn.metrics = [accuracy]\n",
    "    return learn"
   ]
  },
  {
   "cell_type": "code",
   "execution_count": 6,
   "metadata": {},
   "outputs": [],
   "source": [
    "def get_TTA_accuracy(learn):\n",
    "    preds, targs = learn.TTA()\n",
    "    # combining the predictions across augmented and non augmented inputs\n",
    "    preds = 0.6 * preds[0] + 0.4 * preds[1:].sum(0)\n",
    "    return accuracy_np(preds, targs)"
   ]
  },
  {
   "cell_type": "markdown",
   "metadata": {},
   "source": [
    "## fastai DAWN bench submission "
   ]
  },
  {
   "cell_type": "markdown",
   "metadata": {},
   "source": [
    "This I believe is the original FastAI DAWN bench submission in terms of the architecture and the training parameters."
   ]
  },
  {
   "cell_type": "code",
   "execution_count": 7,
   "metadata": {},
   "outputs": [
    {
     "data": {
      "application/vnd.jupyter.widget-view+json": {
       "model_id": "f309ae504202482296bac8751d999e9b",
       "version_major": 2,
       "version_minor": 0
      },
      "text/plain": [
       "HBox(children=(IntProgress(value=0, description='Epoch', max=1), HTML(value='')))"
      ]
     },
     "metadata": {},
     "output_type": "display_data"
    },
    {
     "name": "stdout",
     "output_type": "stream",
     "text": [
      "epoch      trn_loss   val_loss   accuracy                 \n",
      "    0      2.406675   6239621.644 0.1       \n",
      "\n"
     ]
    },
    {
     "data": {
      "image/png": "[encoded data removed]",
      "text/plain": [
       "<Figure size 432x288 with 1 Axes>"
      ]
     },
     "metadata": {},
     "output_type": "display_data"
    }
   ],
   "source": [
    "learn = get_learner(wrn_22(), 512)\n",
    "learn.lr_find(wds=1e-4)\n",
    "learn.clip = 1e-1\n",
    "learn.sched.plot(n_skip_end=1)"
   ]
  },
  {
   "cell_type": "code",
   "execution_count": 8,
   "metadata": {},
   "outputs": [
    {
     "data": {
      "application/vnd.jupyter.widget-view+json": {
       "model_id": "5e57e2ab22e747ff85df0ac78e090a0b",
       "version_major": 2,
       "version_minor": 0
      },
      "text/plain": [
       "HBox(children=(IntProgress(value=0, description='Epoch', max=30), HTML(value='')))"
      ]
     },
     "metadata": {},
     "output_type": "display_data"
    },
    {
     "name": "stdout",
     "output_type": "stream",
     "text": [
      "epoch      trn_loss   val_loss   accuracy                 \n",
      "    0      1.600993   1.441529   0.4754    \n",
      "    1      1.188086   1.41085    0.5334                   \n",
      "    2      0.910884   1.36183    0.5558                    \n",
      "    4      0.611622   0.841227   0.7221                    \n",
      "    5      0.552191   0.764714   0.7504                    \n",
      "    6      0.503751   0.737051   0.7511                    \n",
      "    7      0.460971   0.653494   0.7825                    \n",
      "    8      0.429952   1.264751   0.6541                    \n",
      "    9      0.397564   0.723189   0.7511                    \n",
      "    10     0.37606    0.683567   0.7782                    \n",
      "    11     0.360873   0.577565   0.7981                    \n",
      "    12     0.341871   0.695879   0.7759                    \n",
      "    13     0.323827   0.59713    0.798                     \n",
      "    14     0.304483   0.473728   0.8451                    \n",
      "    15     0.28388    0.555944   0.816                     \n",
      "    16     0.257587   0.87107    0.7456                    \n",
      "    17     0.242033   0.422021   0.8581                    \n",
      "    18     0.228757   0.405375   0.8638                    \n",
      "    19     0.21638    0.411791   0.8625                    \n",
      "    20     0.197131   0.412363   0.8628                    \n",
      "    21     0.179344   0.389317   0.8746                    \n",
      "    22     0.165843   0.392866   0.8762                    \n",
      "    23     0.144036   0.327264   0.8986                    \n",
      "    24     0.120298   0.339279   0.8942                    \n",
      "    25     0.096919   0.281939   0.9124                     \n",
      "    26     0.069822   0.235627   0.9279                     \n",
      "    27     0.046569   0.21313    0.9368                     \n",
      "    28     0.029652   0.209425   0.939                      \n",
      "    29     0.019703   0.201688   0.9419                     \n",
      "\n",
      "CPU times: user 10min 14s, sys: 8min 33s, total: 18min 47s\n",
      "Wall time: 18min 54s\n"
     ]
    },
    {
     "data": {
      "text/plain": [
       "[array([0.20169]), 0.9419000004768372]"
      ]
     },
     "execution_count": 8,
     "metadata": {},
     "output_type": "execute_result"
    }
   ],
   "source": [
    "%time learn.fit(1.5, 1, wds=1e-4, cycle_len=30, use_clr_beta=(15, 10, 0.95, 0.85))"
   ]
  },
  {
   "cell_type": "code",
   "execution_count": 9,
   "metadata": {},
   "outputs": [
    {
     "name": "stdout",
     "output_type": "stream",
     "text": [
      "                                             \r"
     ]
    },
    {
     "data": {
      "text/plain": [
       "0.948"
      ]
     },
     "execution_count": 9,
     "metadata": {},
     "output_type": "execute_result"
    }
   ],
   "source": [
    "get_TTA_accuracy(learn)"
   ]
  },
  {
   "cell_type": "markdown",
   "metadata": {},
   "source": [
    "## With tweaks for training locally on a 1080ti "
   ]
  },
  {
   "cell_type": "markdown",
   "metadata": {},
   "source": [
    "I run the training 3 times just to make sure we hit 94% accuracy with some degree of reliability."
   ]
  },
  {
   "cell_type": "code",
   "execution_count": 10,
   "metadata": {},
   "outputs": [
    {
     "data": {
      "application/vnd.jupyter.widget-view+json": {
       "model_id": "55a183b9bbe341709b7e12f31492b923",
       "version_major": 2,
       "version_minor": 0
      },
      "text/plain": [
       "HBox(children=(IntProgress(value=0, description='Epoch', max=20), HTML(value='')))"
      ]
     },
     "metadata": {},
     "output_type": "display_data"
    },
    {
     "name": "stdout",
     "output_type": "stream",
     "text": [
      "epoch      trn_loss   val_loss   accuracy                   \n",
      "    0      1.169543   1.263701   0.5503    \n",
      "    1      0.908752   1.154146   0.6011                      \n",
      "    2      0.771108   0.912175   0.6869                      \n",
      "    3      0.676908   0.793713   0.7236                      \n",
      "    4      0.628075   0.736298   0.7481                      \n",
      "    5      0.585728   0.812324   0.7084                      \n",
      "    6      0.556467   0.958268   0.682                       \n",
      "    7      0.553127   0.802786   0.7342                      \n",
      "    8      0.537662   0.661663   0.7748                      \n",
      "    9      0.503087   0.917536   0.7149                      \n",
      "    10     0.482562   0.680255   0.7792                      \n",
      "    11     0.448644   0.824123   0.7396                      \n",
      "    12     0.420774   0.750203   0.7668                      \n",
      "    13     0.393915   0.505999   0.8259                      \n",
      "    14     0.365846   0.544087   0.8179                      \n",
      "    15     0.328399   0.416165   0.8565                      \n",
      "    16     0.238594   0.296919   0.8999                      \n",
      "    17     0.1871     0.245863   0.9157                      \n",
      "    18     0.134778   0.218889   0.9252                      \n",
      "    19     0.104386   0.188387   0.9381                       \n",
      "\n",
      "CPU times: user 8min 2s, sys: 5min 24s, total: 13min 27s\n",
      "Wall time: 13min 16s\n"
     ]
    }
   ],
   "source": [
    "%%time\n",
    "learn = get_learner(wrn_22(), 128)\n",
    "learn.clip = 1e-1\n",
    "learn.fit(1.5, 1, wds=1e-4, cycle_len=20, use_clr_beta=(12, 15, 0.95, 0.85))"
   ]
  },
  {
   "cell_type": "code",
   "execution_count": 11,
   "metadata": {},
   "outputs": [
    {
     "name": "stdout",
     "output_type": "stream",
     "text": [
      "                                             \r"
     ]
    },
    {
     "data": {
      "text/plain": [
       "0.9431"
      ]
     },
     "execution_count": 11,
     "metadata": {},
     "output_type": "execute_result"
    }
   ],
   "source": [
    "get_TTA_accuracy(learn)"
   ]
  },
  {
   "cell_type": "code",
   "execution_count": 12,
   "metadata": {},
   "outputs": [
    {
     "data": {
      "application/vnd.jupyter.widget-view+json": {
       "model_id": "84d7e3ce03484d649dbf13a7503fc79b",
       "version_major": 2,
       "version_minor": 0
      },
      "text/plain": [
       "HBox(children=(IntProgress(value=0, description='Epoch', max=20), HTML(value='')))"
      ]
     },
     "metadata": {},
     "output_type": "display_data"
    },
    {
     "name": "stdout",
     "output_type": "stream",
     "text": [
      "epoch      trn_loss   val_loss   accuracy                   \n",
      "    0      1.208857   1.557635   0.5105    \n",
      "    1      0.928309   1.364705   0.5856                      \n",
      "    2      0.7586     0.78556    0.7276                      \n",
      "    3      0.671309   0.965542   0.6779                      \n",
      "    4      0.629488   0.748223   0.7472                      \n",
      "    5      0.567147   0.801228   0.7312                      \n",
      "    6      0.555923   1.104574   0.651                       \n",
      "    7      0.55037    0.768465   0.7412                      \n",
      "    8      0.52509    1.087103   0.668                       \n",
      "    9      0.510132   0.814182   0.7428                      \n",
      "    10     0.474      1.115937   0.6912                      \n",
      "    11     0.464195   0.84923    0.7256                      \n",
      "    12     0.439663   0.473122   0.8399                      \n",
      "    13     0.405162   0.6486     0.7843                      \n",
      "    14     0.365501   0.469936   0.841                       \n",
      "    15     0.322079   0.389312   0.8637                      \n",
      "    16     0.250046   0.293756   0.8955                      \n",
      "    17     0.189786   0.25931    0.9132                      \n",
      "    18     0.139936   0.211995   0.9271                      \n",
      "    19     0.094604   0.196974   0.9338                       \n",
      "\n",
      "CPU times: user 8min 1s, sys: 5min 25s, total: 13min 27s\n",
      "Wall time: 13min 15s\n"
     ]
    }
   ],
   "source": [
    "%%time\n",
    "learn = get_learner(wrn_22(), 128)\n",
    "learn.clip = 1e-1\n",
    "learn.fit(1.5, 1, wds=1e-4, cycle_len=20, use_clr_beta=(12, 15, 0.95, 0.85))"
   ]
  },
  {
   "cell_type": "code",
   "execution_count": 13,
   "metadata": {},
   "outputs": [
    {
     "name": "stdout",
     "output_type": "stream",
     "text": [
      "                                             \r"
     ]
    },
    {
     "data": {
      "text/plain": [
       "0.9402"
      ]
     },
     "execution_count": 13,
     "metadata": {},
     "output_type": "execute_result"
    }
   ],
   "source": [
    "get_TTA_accuracy(learn)"
   ]
  },
  {
   "cell_type": "code",
   "execution_count": 14,
   "metadata": {},
   "outputs": [
    {
     "data": {
      "application/vnd.jupyter.widget-view+json": {
       "model_id": "c89dc22f1fc74dbd956cadd18f13d82e",
       "version_major": 2,
       "version_minor": 0
      },
      "text/plain": [
       "HBox(children=(IntProgress(value=0, description='Epoch', max=20), HTML(value='')))"
      ]
     },
     "metadata": {},
     "output_type": "display_data"
    },
    {
     "name": "stdout",
     "output_type": "stream",
     "text": [
      "epoch      trn_loss   val_loss   accuracy                   \n",
      "    0      1.215059   1.240503   0.5669    \n",
      "    1      0.899173   1.022645   0.6619                      \n",
      "    2      0.75076    0.80045    0.7308                      \n",
      "    3      0.676683   0.960973   0.6804                      \n",
      "    4      0.604371   0.844541   0.7308                      \n",
      "    5      0.579993   0.923703   0.6962                      \n",
      "    6      0.549273   0.74115    0.7459                      \n",
      "    7      0.538123   0.842362   0.718                       \n",
      "    8      0.52504    1.040526   0.6702                      \n",
      "    9      0.500089   0.84092    0.731                       \n",
      "    10     0.464431   0.546925   0.819                       \n",
      "    11     0.444645   0.758121   0.7587                      \n",
      "    12     0.422681   0.573507   0.8074                      \n",
      "    13     0.396939   0.584204   0.8102                      \n",
      "    14     0.377264   0.599833   0.8012                      \n",
      "    15     0.312021   0.511016   0.8347                      \n",
      "    16     0.231998   0.320775   0.8931                      \n",
      "    17     0.184563   0.250778   0.9159                      \n",
      "    18     0.13895    0.214737   0.9272                      \n",
      "    19     0.100409   0.196783   0.9358                       \n",
      "\n",
      "CPU times: user 8min 1s, sys: 5min 26s, total: 13min 27s\n",
      "Wall time: 13min 15s\n"
     ]
    }
   ],
   "source": [
    "%%time\n",
    "learn = get_learner(wrn_22(), 128)\n",
    "learn.clip = 1e-1\n",
    "learn.fit(1.5, 1, wds=1e-4, cycle_len=20, use_clr_beta=(12, 15, 0.95, 0.85))"
   ]
  },
  {
   "cell_type": "code",
   "execution_count": 15,
   "metadata": {},
   "outputs": [
    {
     "name": "stdout",
     "output_type": "stream",
     "text": [
      "                                             \r"
     ]
    },
    {
     "data": {
      "text/plain": [
       "0.9416"
      ]
     },
     "execution_count": 15,
     "metadata": {},
     "output_type": "execute_result"
    }
   ],
   "source": [
    "get_TTA_accuracy(learn)"
   ]
  },
  {
   "cell_type": "code",
   "execution_count": 16,
   "metadata": {},
   "outputs": [
    {
     "data": {
      "image/png": "[encoded data removed]",
      "text/plain": [
       "<Figure size 432x288 with 1 Axes>"
      ]
     },
     "metadata": {},
     "output_type": "display_data"
    }
   ],
   "source": [
    "learn.sched.plot_loss()"
   ]
  },
  {
   "cell_type": "code",
   "execution_count": 17,
   "metadata": {},
   "outputs": [
    {
     "data": {
      "image/png": "[encoded data removed]",
      "text/plain": [
       "<Figure size 864x288 with 2 Axes>"
      ]
     },
     "metadata": {},
     "output_type": "display_data"
    }
   ],
   "source": [
    "learn.sched.plot_lr()"
   ]
  }
 ],
 "metadata": {
  "kernelspec": {
   "display_name": "Python 3",
   "language": "python",
   "name": "python3"
  },
  "language_info": {
   "codemirror_mode": {
    "name": "ipython",
    "version": 3
   },
   "file_extension": ".py",
   "mimetype": "text/x-python",
   "name": "python",
   "nbconvert_exporter": "python",
   "pygments_lexer": "ipython3",
   "version": "3.6.5"
  }
 },
 "nbformat": 4,
 "nbformat_minor": 2
}
