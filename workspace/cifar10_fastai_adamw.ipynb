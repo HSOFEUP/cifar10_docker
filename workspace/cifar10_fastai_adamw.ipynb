{
 "cells": [
  {
   "cell_type": "markdown",
   "metadata": {},
   "source": [
    "https://github.com/sgugger/Adam-experiments"
   ]
  },
  {
   "cell_type": "code",
   "execution_count": 1,
   "metadata": {},
   "outputs": [],
   "source": [
    "from fastai.conv_learner import *\n",
    "from fastai.models.cifar10.wideresnet import wrn_22\n",
    "from torchvision import transforms, datasets\n",
    "\n",
    "torch.backends.cudnn.benchmark = True\n",
    "PATH = Path(\"../data/cifar10\")"
   ]
  },
  {
   "cell_type": "code",
   "execution_count": 2,
   "metadata": {},
   "outputs": [],
   "source": [
    "classes = ('plane', 'car', 'bird', 'cat', 'deer', 'dog', 'frog', 'horse', 'ship', 'truck')\n",
    "stats = (np.array([ 0.4914 ,  0.48216,  0.44653]), np.array([ 0.24703,  0.24349,  0.26159]))"
   ]
  },
  {
   "cell_type": "code",
   "execution_count": 3,
   "metadata": {},
   "outputs": [
    {
     "data": {
      "text/plain": [
       "[8.325000000000001, 8.325000000000001, 1.3499999999999999]"
      ]
     },
     "execution_count": 3,
     "metadata": {},
     "output_type": "execute_result"
    }
   ],
   "source": [
    "sz = 32\n",
    "bs = 128\n",
    "\n",
    "m = wrn_22()\n",
    "base_lr = 3e-3\n",
    "lr_div = 10\n",
    "wd = 0.1\n",
    "cyc_len = 18     # lenght of the cycle expressed in epochs\n",
    "ann_len = 0.075   # length of the annealing phase expressed as a fraction of cycle_len\n",
    "\n",
    "moms = (0.95,0.85)\n",
    "beta2=0.99\n",
    "\n",
    "phase_lengths = [cyc_len * (1-ann_len) / 2, cyc_len * (1-ann_len) / 2, cyc_len * ann_len]; phase_lengths"
   ]
  },
  {
   "cell_type": "code",
   "execution_count": 4,
   "metadata": {},
   "outputs": [],
   "source": [
    "tfms = tfms_from_stats(stats, sz, aug_tfms=[RandomCrop(sz), RandomFlip()], pad=sz//8)\n",
    "data = ImageClassifierData.from_paths(PATH, val_name='test', tfms=tfms, bs=bs)"
   ]
  },
  {
   "cell_type": "code",
   "execution_count": 5,
   "metadata": {},
   "outputs": [],
   "source": [
    "learn = ConvLearner.from_model_data(m, data)\n",
    "learn.crit = nn.CrossEntropyLoss()\n",
    "learn.metrics = [accuracy]"
   ]
  },
  {
   "cell_type": "code",
   "execution_count": 6,
   "metadata": {},
   "outputs": [],
   "source": [
    "def adam(params): return optim.Adam(params, betas=(moms[0], beta2))\n",
    "learn.opt_fn = adam"
   ]
  },
  {
   "cell_type": "code",
   "execution_count": 7,
   "metadata": {},
   "outputs": [],
   "source": [
    "training_phases = [\n",
    "    TrainingPhase(phase_lengths[0], adam, lr=(base_lr/lr_div, base_lr), lr_decay=DecayType.LINEAR,\n",
    "              momentum=moms, wds=wd, wd_loss=False),\n",
    "    TrainingPhase(phase_lengths[1], adam, lr=(base_lr, base_lr/lr_div), lr_decay=DecayType.LINEAR,\n",
    "              momentum=(moms[1], moms[0]), wds=wd, wd_loss=False),\n",
    "    TrainingPhase(phase_lengths[2], adam, lr=(base_lr/lr_div, base_lr/(lr_div*100)), lr_decay=DecayType.LINEAR,\n",
    "              momentum=moms[0], wds=wd, wd_loss=False)\n",
    "]"
   ]
  },
  {
   "cell_type": "code",
   "execution_count": 8,
   "metadata": {},
   "outputs": [
    {
     "data": {
      "application/vnd.jupyter.widget-view+json": {
       "model_id": "e0d037272f3042f59d2e3be395c96c54",
       "version_major": 2,
       "version_minor": 0
      },
      "text/plain": [
       "HBox(children=(IntProgress(value=0, description='Epoch', max=19), HTML(value='')))"
      ]
     },
     "metadata": {},
     "output_type": "display_data"
    },
    {
     "name": "stdout",
     "output_type": "stream",
     "text": [
      "epoch      trn_loss   val_loss   accuracy                   \n",
      "    0      1.100184   1.303615   0.5538    \n",
      "    1      0.860301   0.829979   0.7096                      \n",
      "    2      0.707362   0.658548   0.77                        \n",
      "    3      0.601992   0.701045   0.7623                      \n",
      "    4      0.552413   0.6147     0.7933                      \n",
      "    5      0.4985     0.520587   0.8248                      \n",
      "    6      0.461927   0.560585   0.8161                      \n",
      "    7      0.44654    0.53767    0.8208                      \n",
      "    8      0.396705   0.509707   0.8284                      \n",
      "    9      0.355116   0.481006   0.8438                      \n",
      "    10     0.305154   0.406727   0.8629                      \n",
      "    11     0.262299   0.367325   0.8763                      \n",
      "    12     0.220301   0.292306   0.9022                      \n",
      "    13     0.17784    0.285621   0.9061                      \n",
      "    14     0.146109   0.277172   0.9112                      \n",
      "    15     0.109799   0.237756   0.9242                      \n",
      "    16     0.073605   0.21448    0.9339                       \n",
      "    17     0.053538   0.212641   0.9375                       \n",
      "CPU times: user 14min 21s, sys: 7min 27s, total: 21min 48s\n",
      "Wall time: 15min 33s\n"
     ]
    },
    {
     "data": {
      "text/plain": [
       "[array([0.21264]), 0.9375]"
      ]
     },
     "execution_count": 8,
     "metadata": {},
     "output_type": "execute_result"
    }
   ],
   "source": [
    "%time learn.fit_opt_sched(training_phases)"
   ]
  },
  {
   "cell_type": "code",
   "execution_count": 9,
   "metadata": {},
   "outputs": [
    {
     "name": "stdout",
     "output_type": "stream",
     "text": [
      "                                             \r"
     ]
    },
    {
     "data": {
      "text/plain": [
       "'Final loss: 0.1821363866329193, Final accuracy: 0.9420999884605408'"
      ]
     },
     "execution_count": 9,
     "metadata": {},
     "output_type": "execute_result"
    }
   ],
   "source": [
    "preds, targs = learn.TTA()\n",
    "probs = np.exp(preds)/np.exp(preds).sum(2)[:,:,None]\n",
    "probs = np.mean(probs,0)\n",
    "acc = learn.metrics[0](V(probs), V(targs)).data[0]\n",
    "loss = learn.crit(V(np.log(probs)), V(targs)).data[0]\n",
    "f'Final loss: {loss}, Final accuracy: {acc}'"
   ]
  },
  {
   "cell_type": "code",
   "execution_count": 10,
   "metadata": {},
   "outputs": [
    {
     "data": {
      "image/png": "[encoded data removed]",
      "text/plain": [
       "<Figure size 432x288 with 1 Axes>"
      ]
     },
     "metadata": {},
     "output_type": "display_data"
    }
   ],
   "source": [
    "learn.sched.plot_loss()"
   ]
  },
  {
   "cell_type": "code",
   "execution_count": 11,
   "metadata": {},
   "outputs": [
    {
     "data": {
      "image/png": "[encoded data removed]",
      "text/plain": [
       "<Figure size 864x288 with 2 Axes>"
      ]
     },
     "metadata": {},
     "output_type": "display_data"
    }
   ],
   "source": [
    "learn.sched.plot_lr()"
   ]
  }
 ],
 "metadata": {
  "kernelspec": {
   "display_name": "Python 3",
   "language": "python",
   "name": "python3"
  },
  "language_info": {
   "codemirror_mode": {
    "name": "ipython",
    "version": 3
   },
   "file_extension": ".py",
   "mimetype": "text/x-python",
   "name": "python",
   "nbconvert_exporter": "python",
   "pygments_lexer": "ipython3",
   "version": "3.6.5"
  }
 },
 "nbformat": 4,
 "nbformat_minor": 2
}
